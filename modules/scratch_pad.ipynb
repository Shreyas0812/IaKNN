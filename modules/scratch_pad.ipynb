{
 "cells": [
  {
   "cell_type": "code",
   "execution_count": 2,
   "id": "9bbbcfc1",
   "metadata": {},
   "outputs": [],
   "source": [
    "import pandas as pd\n",
    "import numpy as np"
   ]
  },
  {
   "cell_type": "code",
   "execution_count": 68,
   "id": "6b15308a",
   "metadata": {},
   "outputs": [],
   "source": [
    "def load_data(file_path, chunk_size=1000, selected_columns=None):\n",
    "    \"\"\"\n",
    "    Load data from a CSV file in chunks.\n",
    "\n",
    "    Parameters:\n",
    "    - file_path: str, path to the CSV file\n",
    "    - chunk_size: int, number of rows per chunk\n",
    "    - selected_columns: list, columns to select from the CSV\n",
    "\n",
    "    Returns:\n",
    "    - generator of DataFrames\n",
    "    \"\"\"\n",
    "    # Read the CSV file in chunks\n",
    "\n",
    "    if selected_columns is None:\n",
    "        chunk_iter = pd.read_csv(file_path, chunksize=chunk_size)\n",
    "    else:\n",
    "        chunk_iter = pd.read_csv(file_path, usecols=selected_columns, chunksize=chunk_size)\n",
    "\n",
    "    # Process each chunk\n",
    "    for chunk in chunk_iter:\n",
    "        yield chunk"
   ]
  },
  {
   "cell_type": "code",
   "execution_count": 69,
   "id": "6d690d1b",
   "metadata": {},
   "outputs": [],
   "source": [
    "chunk_data = True\n",
    "chunk_size = 10000\n",
    "num_chunks = 10\n",
    "selected_columns = None\n",
    "\n",
    "if chunk_data:\n",
    "    # Load data in chunks\n",
    "    trajectories_data = pd.DataFrame()\n",
    "    cur_chunk = 0\n",
    "    for chunk in load_data('../data/ngsim.csv', chunk_size=chunk_size, selected_columns=selected_columns):\n",
    "        # Process the chunk (e.g., append to a list or DataFrame)\n",
    "        trajectories_data = pd.concat([trajectories_data, chunk], ignore_index=True)\n",
    "\n",
    "        cur_chunk += 1\n",
    "        if cur_chunk >= num_chunks:\n",
    "            break\n",
    "else:\n",
    "    trajectories_data = pd.read_csv('../data/ngsim.csv')  "
   ]
  },
  {
   "cell_type": "code",
   "execution_count": 70,
   "id": "d7d5b1d3",
   "metadata": {},
   "outputs": [
    {
     "data": {
      "text/html": [
       "<div>\n",
       "<style scoped>\n",
       "    .dataframe tbody tr th:only-of-type {\n",
       "        vertical-align: middle;\n",
       "    }\n",
       "\n",
       "    .dataframe tbody tr th {\n",
       "        vertical-align: top;\n",
       "    }\n",
       "\n",
       "    .dataframe thead th {\n",
       "        text-align: right;\n",
       "    }\n",
       "</style>\n",
       "<table border=\"1\" class=\"dataframe\">\n",
       "  <thead>\n",
       "    <tr style=\"text-align: right;\">\n",
       "      <th></th>\n",
       "      <th>Vehicle_ID</th>\n",
       "      <th>Frame_ID</th>\n",
       "      <th>Total_Frames</th>\n",
       "      <th>Global_Time</th>\n",
       "      <th>Local_X</th>\n",
       "      <th>Local_Y</th>\n",
       "      <th>Global_X</th>\n",
       "      <th>Global_Y</th>\n",
       "      <th>v_length</th>\n",
       "      <th>v_Width</th>\n",
       "      <th>...</th>\n",
       "      <th>D_Zone</th>\n",
       "      <th>Int_ID</th>\n",
       "      <th>Section_ID</th>\n",
       "      <th>Direction</th>\n",
       "      <th>Movement</th>\n",
       "      <th>Preceding</th>\n",
       "      <th>Following</th>\n",
       "      <th>Space_Headway</th>\n",
       "      <th>Time_Headway</th>\n",
       "      <th>Location</th>\n",
       "    </tr>\n",
       "  </thead>\n",
       "  <tbody>\n",
       "    <tr>\n",
       "      <th>99995</th>\n",
       "      <td>1690</td>\n",
       "      <td>8344</td>\n",
       "      <td>404</td>\n",
       "      <td>1118849591400</td>\n",
       "      <td>63.296</td>\n",
       "      <td>1021.238</td>\n",
       "      <td>6451802.288</td>\n",
       "      <td>1872658.894</td>\n",
       "      <td>16.0</td>\n",
       "      <td>6.9</td>\n",
       "      <td>...</td>\n",
       "      <td>NaN</td>\n",
       "      <td>NaN</td>\n",
       "      <td>NaN</td>\n",
       "      <td>NaN</td>\n",
       "      <td>NaN</td>\n",
       "      <td>0</td>\n",
       "      <td>1699</td>\n",
       "      <td>0.00</td>\n",
       "      <td>0.00</td>\n",
       "      <td>us-101</td>\n",
       "    </tr>\n",
       "    <tr>\n",
       "      <th>99996</th>\n",
       "      <td>1154</td>\n",
       "      <td>8620</td>\n",
       "      <td>807</td>\n",
       "      <td>1118936541900</td>\n",
       "      <td>-24.897</td>\n",
       "      <td>568.041</td>\n",
       "      <td>6452129.123</td>\n",
       "      <td>1873321.688</td>\n",
       "      <td>17.0</td>\n",
       "      <td>7.3</td>\n",
       "      <td>...</td>\n",
       "      <td>201.0</td>\n",
       "      <td>0.0</td>\n",
       "      <td>3.0</td>\n",
       "      <td>4.0</td>\n",
       "      <td>1.0</td>\n",
       "      <td>1140</td>\n",
       "      <td>1171</td>\n",
       "      <td>43.23</td>\n",
       "      <td>3.77</td>\n",
       "      <td>lankershim</td>\n",
       "    </tr>\n",
       "    <tr>\n",
       "      <th>99997</th>\n",
       "      <td>832</td>\n",
       "      <td>4568</td>\n",
       "      <td>891</td>\n",
       "      <td>1118849213800</td>\n",
       "      <td>6.579</td>\n",
       "      <td>1973.726</td>\n",
       "      <td>6452557.400</td>\n",
       "      <td>1872075.583</td>\n",
       "      <td>16.5</td>\n",
       "      <td>6.9</td>\n",
       "      <td>...</td>\n",
       "      <td>NaN</td>\n",
       "      <td>NaN</td>\n",
       "      <td>NaN</td>\n",
       "      <td>NaN</td>\n",
       "      <td>NaN</td>\n",
       "      <td>826</td>\n",
       "      <td>837</td>\n",
       "      <td>84.58</td>\n",
       "      <td>2.40</td>\n",
       "      <td>us-101</td>\n",
       "    </tr>\n",
       "    <tr>\n",
       "      <th>99998</th>\n",
       "      <td>1729</td>\n",
       "      <td>8524</td>\n",
       "      <td>703</td>\n",
       "      <td>1118849609400</td>\n",
       "      <td>39.312</td>\n",
       "      <td>982.817</td>\n",
       "      <td>6451789.041</td>\n",
       "      <td>1872702.188</td>\n",
       "      <td>14.5</td>\n",
       "      <td>5.9</td>\n",
       "      <td>...</td>\n",
       "      <td>NaN</td>\n",
       "      <td>NaN</td>\n",
       "      <td>NaN</td>\n",
       "      <td>NaN</td>\n",
       "      <td>NaN</td>\n",
       "      <td>1720</td>\n",
       "      <td>1734</td>\n",
       "      <td>77.62</td>\n",
       "      <td>2.28</td>\n",
       "      <td>us-101</td>\n",
       "    </tr>\n",
       "    <tr>\n",
       "      <th>99999</th>\n",
       "      <td>123</td>\n",
       "      <td>1465</td>\n",
       "      <td>1022</td>\n",
       "      <td>1118935826400</td>\n",
       "      <td>-6.823</td>\n",
       "      <td>51.919</td>\n",
       "      <td>6451920.969</td>\n",
       "      <td>1872850.072</td>\n",
       "      <td>16.6</td>\n",
       "      <td>7.6</td>\n",
       "      <td>...</td>\n",
       "      <td>201.0</td>\n",
       "      <td>1.0</td>\n",
       "      <td>0.0</td>\n",
       "      <td>4.0</td>\n",
       "      <td>1.0</td>\n",
       "      <td>0</td>\n",
       "      <td>165</td>\n",
       "      <td>0.00</td>\n",
       "      <td>0.00</td>\n",
       "      <td>lankershim</td>\n",
       "    </tr>\n",
       "  </tbody>\n",
       "</table>\n",
       "<p>5 rows × 25 columns</p>\n",
       "</div>"
      ],
      "text/plain": [
       "       Vehicle_ID  Frame_ID  Total_Frames    Global_Time  Local_X   Local_Y  \\\n",
       "99995        1690      8344           404  1118849591400   63.296  1021.238   \n",
       "99996        1154      8620           807  1118936541900  -24.897   568.041   \n",
       "99997         832      4568           891  1118849213800    6.579  1973.726   \n",
       "99998        1729      8524           703  1118849609400   39.312   982.817   \n",
       "99999         123      1465          1022  1118935826400   -6.823    51.919   \n",
       "\n",
       "          Global_X     Global_Y  v_length  v_Width  ...  D_Zone  Int_ID  \\\n",
       "99995  6451802.288  1872658.894      16.0      6.9  ...     NaN     NaN   \n",
       "99996  6452129.123  1873321.688      17.0      7.3  ...   201.0     0.0   \n",
       "99997  6452557.400  1872075.583      16.5      6.9  ...     NaN     NaN   \n",
       "99998  6451789.041  1872702.188      14.5      5.9  ...     NaN     NaN   \n",
       "99999  6451920.969  1872850.072      16.6      7.6  ...   201.0     1.0   \n",
       "\n",
       "       Section_ID  Direction  Movement  Preceding  Following  Space_Headway  \\\n",
       "99995         NaN        NaN       NaN          0       1699           0.00   \n",
       "99996         3.0        4.0       1.0       1140       1171          43.23   \n",
       "99997         NaN        NaN       NaN        826        837          84.58   \n",
       "99998         NaN        NaN       NaN       1720       1734          77.62   \n",
       "99999         0.0        4.0       1.0          0        165           0.00   \n",
       "\n",
       "       Time_Headway    Location  \n",
       "99995          0.00      us-101  \n",
       "99996          3.77  lankershim  \n",
       "99997          2.40      us-101  \n",
       "99998          2.28      us-101  \n",
       "99999          0.00  lankershim  \n",
       "\n",
       "[5 rows x 25 columns]"
      ]
     },
     "execution_count": 70,
     "metadata": {},
     "output_type": "execute_result"
    }
   ],
   "source": [
    "trajectories_data.tail()"
   ]
  },
  {
   "cell_type": "code",
   "execution_count": 71,
   "id": "7816e414",
   "metadata": {},
   "outputs": [
    {
     "data": {
      "text/plain": [
       "100000"
      ]
     },
     "execution_count": 71,
     "metadata": {},
     "output_type": "execute_result"
    }
   ],
   "source": [
    "len(trajectories_data)"
   ]
  },
  {
   "cell_type": "code",
   "execution_count": 72,
   "id": "e6a40421",
   "metadata": {},
   "outputs": [
    {
     "data": {
      "text/html": [
       "<div>\n",
       "<style scoped>\n",
       "    .dataframe tbody tr th:only-of-type {\n",
       "        vertical-align: middle;\n",
       "    }\n",
       "\n",
       "    .dataframe tbody tr th {\n",
       "        vertical-align: top;\n",
       "    }\n",
       "\n",
       "    .dataframe thead th {\n",
       "        text-align: right;\n",
       "    }\n",
       "</style>\n",
       "<table border=\"1\" class=\"dataframe\">\n",
       "  <thead>\n",
       "    <tr style=\"text-align: right;\">\n",
       "      <th></th>\n",
       "      <th>Vehicle_ID</th>\n",
       "      <th>Frame_ID</th>\n",
       "      <th>Total_Frames</th>\n",
       "      <th>Global_Time</th>\n",
       "      <th>Local_X</th>\n",
       "      <th>Local_Y</th>\n",
       "      <th>Global_X</th>\n",
       "      <th>Global_Y</th>\n",
       "      <th>v_length</th>\n",
       "      <th>v_Width</th>\n",
       "      <th>...</th>\n",
       "      <th>D_Zone</th>\n",
       "      <th>Int_ID</th>\n",
       "      <th>Section_ID</th>\n",
       "      <th>Direction</th>\n",
       "      <th>Movement</th>\n",
       "      <th>Preceding</th>\n",
       "      <th>Following</th>\n",
       "      <th>Space_Headway</th>\n",
       "      <th>Time_Headway</th>\n",
       "      <th>Location</th>\n",
       "    </tr>\n",
       "  </thead>\n",
       "  <tbody>\n",
       "    <tr>\n",
       "      <th>0</th>\n",
       "      <td>515</td>\n",
       "      <td>2330</td>\n",
       "      <td>1123</td>\n",
       "      <td>1118848075000</td>\n",
       "      <td>30.034</td>\n",
       "      <td>188.062</td>\n",
       "      <td>6451203.729</td>\n",
       "      <td>1873252.549</td>\n",
       "      <td>13.0</td>\n",
       "      <td>6.9</td>\n",
       "      <td>...</td>\n",
       "      <td>NaN</td>\n",
       "      <td>NaN</td>\n",
       "      <td>NaN</td>\n",
       "      <td>NaN</td>\n",
       "      <td>NaN</td>\n",
       "      <td>500</td>\n",
       "      <td>523</td>\n",
       "      <td>119.10</td>\n",
       "      <td>5.11</td>\n",
       "      <td>us-101</td>\n",
       "    </tr>\n",
       "    <tr>\n",
       "      <th>1</th>\n",
       "      <td>515</td>\n",
       "      <td>2330</td>\n",
       "      <td>1123</td>\n",
       "      <td>1118848075000</td>\n",
       "      <td>30.034</td>\n",
       "      <td>188.062</td>\n",
       "      <td>6451203.729</td>\n",
       "      <td>1873252.549</td>\n",
       "      <td>13.0</td>\n",
       "      <td>6.9</td>\n",
       "      <td>...</td>\n",
       "      <td>NaN</td>\n",
       "      <td>NaN</td>\n",
       "      <td>NaN</td>\n",
       "      <td>NaN</td>\n",
       "      <td>NaN</td>\n",
       "      <td>500</td>\n",
       "      <td>523</td>\n",
       "      <td>119.10</td>\n",
       "      <td>5.11</td>\n",
       "      <td>us-101</td>\n",
       "    </tr>\n",
       "    <tr>\n",
       "      <th>2</th>\n",
       "      <td>2224</td>\n",
       "      <td>6548</td>\n",
       "      <td>1902</td>\n",
       "      <td>1113437421700</td>\n",
       "      <td>41.429</td>\n",
       "      <td>472.901</td>\n",
       "      <td>6042814.264</td>\n",
       "      <td>2133542.012</td>\n",
       "      <td>14.3</td>\n",
       "      <td>6.9</td>\n",
       "      <td>...</td>\n",
       "      <td>NaN</td>\n",
       "      <td>NaN</td>\n",
       "      <td>NaN</td>\n",
       "      <td>NaN</td>\n",
       "      <td>NaN</td>\n",
       "      <td>2208</td>\n",
       "      <td>2211</td>\n",
       "      <td>53.34</td>\n",
       "      <td>2.01</td>\n",
       "      <td>i-80</td>\n",
       "    </tr>\n",
       "    <tr>\n",
       "      <th>3</th>\n",
       "      <td>2127</td>\n",
       "      <td>6459</td>\n",
       "      <td>567</td>\n",
       "      <td>1118847624800</td>\n",
       "      <td>19.632</td>\n",
       "      <td>1775.614</td>\n",
       "      <td>6452425.122</td>\n",
       "      <td>1872172.475</td>\n",
       "      <td>13.5</td>\n",
       "      <td>6.9</td>\n",
       "      <td>...</td>\n",
       "      <td>NaN</td>\n",
       "      <td>NaN</td>\n",
       "      <td>NaN</td>\n",
       "      <td>NaN</td>\n",
       "      <td>NaN</td>\n",
       "      <td>2124</td>\n",
       "      <td>2132</td>\n",
       "      <td>48.92</td>\n",
       "      <td>1.30</td>\n",
       "      <td>us-101</td>\n",
       "    </tr>\n",
       "    <tr>\n",
       "      <th>4</th>\n",
       "      <td>1033</td>\n",
       "      <td>4827</td>\n",
       "      <td>592</td>\n",
       "      <td>1118848324700</td>\n",
       "      <td>6.202</td>\n",
       "      <td>1701.144</td>\n",
       "      <td>6452347.673</td>\n",
       "      <td>1872258.452</td>\n",
       "      <td>13.5</td>\n",
       "      <td>4.4</td>\n",
       "      <td>...</td>\n",
       "      <td>NaN</td>\n",
       "      <td>NaN</td>\n",
       "      <td>NaN</td>\n",
       "      <td>NaN</td>\n",
       "      <td>NaN</td>\n",
       "      <td>1029</td>\n",
       "      <td>1040</td>\n",
       "      <td>38.81</td>\n",
       "      <td>0.92</td>\n",
       "      <td>us-101</td>\n",
       "    </tr>\n",
       "  </tbody>\n",
       "</table>\n",
       "<p>5 rows × 25 columns</p>\n",
       "</div>"
      ],
      "text/plain": [
       "   Vehicle_ID  Frame_ID  Total_Frames    Global_Time  Local_X   Local_Y  \\\n",
       "0         515      2330          1123  1118848075000   30.034   188.062   \n",
       "1         515      2330          1123  1118848075000   30.034   188.062   \n",
       "2        2224      6548          1902  1113437421700   41.429   472.901   \n",
       "3        2127      6459           567  1118847624800   19.632  1775.614   \n",
       "4        1033      4827           592  1118848324700    6.202  1701.144   \n",
       "\n",
       "      Global_X     Global_Y  v_length  v_Width  ...  D_Zone  Int_ID  \\\n",
       "0  6451203.729  1873252.549      13.0      6.9  ...     NaN     NaN   \n",
       "1  6451203.729  1873252.549      13.0      6.9  ...     NaN     NaN   \n",
       "2  6042814.264  2133542.012      14.3      6.9  ...     NaN     NaN   \n",
       "3  6452425.122  1872172.475      13.5      6.9  ...     NaN     NaN   \n",
       "4  6452347.673  1872258.452      13.5      4.4  ...     NaN     NaN   \n",
       "\n",
       "   Section_ID  Direction  Movement  Preceding  Following  Space_Headway  \\\n",
       "0         NaN        NaN       NaN        500        523         119.10   \n",
       "1         NaN        NaN       NaN        500        523         119.10   \n",
       "2         NaN        NaN       NaN       2208       2211          53.34   \n",
       "3         NaN        NaN       NaN       2124       2132          48.92   \n",
       "4         NaN        NaN       NaN       1029       1040          38.81   \n",
       "\n",
       "   Time_Headway  Location  \n",
       "0          5.11    us-101  \n",
       "1          5.11    us-101  \n",
       "2          2.01      i-80  \n",
       "3          1.30    us-101  \n",
       "4          0.92    us-101  \n",
       "\n",
       "[5 rows x 25 columns]"
      ]
     },
     "execution_count": 72,
     "metadata": {},
     "output_type": "execute_result"
    }
   ],
   "source": [
    "trajectories_data.head()"
   ]
  },
  {
   "cell_type": "code",
   "execution_count": 73,
   "id": "1e9b3ba4",
   "metadata": {},
   "outputs": [
    {
     "name": "stdout",
     "output_type": "stream",
     "text": [
      "Index(['Vehicle_ID', 'Frame_ID', 'Total_Frames', 'Global_Time', 'Local_X',\n",
      "       'Local_Y', 'Global_X', 'Global_Y', 'v_length', 'v_Width', 'v_Class',\n",
      "       'v_Vel', 'v_Acc', 'Lane_ID', 'O_Zone', 'D_Zone', 'Int_ID', 'Section_ID',\n",
      "       'Direction', 'Movement', 'Preceding', 'Following', 'Space_Headway',\n",
      "       'Time_Headway', 'Location'],\n",
      "      dtype='object')\n"
     ]
    }
   ],
   "source": [
    "# print all the columns\n",
    "print(trajectories_data.columns)\n"
   ]
  },
  {
   "cell_type": "code",
   "execution_count": 12,
   "id": "e3a79021",
   "metadata": {},
   "outputs": [
    {
     "name": "stdout",
     "output_type": "stream",
     "text": [
      "4802933\n",
      "3614404\n",
      "2055628\n"
     ]
    }
   ],
   "source": [
    "trajectories_data = pd.read_csv('../data/ngsim.csv')  \n",
    "# plrint unique locations\n",
    "locations = trajectories_data['Location'].unique()\n",
    "# Filter the data for us-101 location\n",
    "us101_data = trajectories_data[trajectories_data['Location'] == 'us-101']\n",
    "print(len(us101_data))\n",
    "# now for data for each location if vehicle id and frame id are same in 2 entries drop duplicate entries\n",
    "us101_data = us101_data.drop_duplicates(subset=['Vehicle_ID', 'Frame_ID'], keep='first')\n",
    "print(len(us101_data))\n",
    "# extract cars in lane 3, 4, 5\n",
    "us101_data = us101_data[(us101_data['Lane_ID'] == 3) | (us101_data['Lane_ID'] == 4) | (us101_data['Lane_ID'] == 5)]\n",
    "print(len(us101_data))\n"
   ]
  },
  {
   "cell_type": "code",
   "execution_count": 13,
   "id": "7a2e650a",
   "metadata": {},
   "outputs": [],
   "source": [
    "us101_data = us101_data.sort_values(by='Frame_ID')"
   ]
  },
  {
   "cell_type": "code",
   "execution_count": 14,
   "id": "497e630e",
   "metadata": {},
   "outputs": [],
   "source": [
    "# Select a specific Vehicle_ID for experimentation\n",
    "vehicle_id = 251  # Replace with the desired Vehicle_ID\n",
    "us101_data = us101_data[us101_data['Vehicle_ID'] == vehicle_id]\n",
    "\n",
    "# Display the first few rows of the filtered data\n",
    "# print(vehicle_data.head())"
   ]
  },
  {
   "cell_type": "code",
   "execution_count": 16,
   "id": "ca06557a",
   "metadata": {},
   "outputs": [
    {
     "name": "stdout",
     "output_type": "stream",
     "text": [
      "         Frame_ID    Global_Time  Time_Difference\n",
      "3689294      1177  1118848874700              NaN\n",
      "769121       1178  1118848874800            100.0\n",
      "7241583      1179  1118848874900            100.0\n",
      "3180957      1180  1118848875000            100.0\n",
      "2132112      1181  1118848875100            100.0\n",
      "...           ...            ...              ...\n",
      "8230781      1272  1118848884200            100.0\n",
      "3153399      1273  1118848884300            100.0\n",
      "7811916      1274  1118848884400            100.0\n",
      "4053430      1275  1118848884500            100.0\n",
      "2284116      1276  1118848884600            100.0\n",
      "\n",
      "[100 rows x 3 columns]\n"
     ]
    }
   ],
   "source": [
    "# Calculate the time difference between consecutive frames\n",
    "us101_data['Time_Difference'] = us101_data['Global_Time'].diff()\n",
    "\n",
    "# Display the first few rows to verify\n",
    "print(us101_data[['Frame_ID', 'Global_Time', 'Time_Difference']][:100])"
   ]
  },
  {
   "cell_type": "code",
   "execution_count": 45,
   "id": "49ed6d50",
   "metadata": {},
   "outputs": [
    {
     "name": "stdout",
     "output_type": "stream",
     "text": [
      "4802933\n"
     ]
    }
   ],
   "source": [
    "# Filter the data for us-101 location\n",
    "us101_data = trajectories_data[trajectories_data['Location'] == 'us-101']\n",
    "print(len(us101_data))"
   ]
  },
  {
   "cell_type": "code",
   "execution_count": 46,
   "id": "5fe4d2db",
   "metadata": {},
   "outputs": [
    {
     "name": "stdout",
     "output_type": "stream",
     "text": [
      "3614404\n"
     ]
    }
   ],
   "source": [
    "# now for data for each location if vehicle id and frame id are same in 2 entries drop duplicate entries\n",
    "us101_data = us101_data.drop_duplicates(subset=['Vehicle_ID', 'Frame_ID'], keep='first')\n",
    "print(len(us101_data))\n"
   ]
  },
  {
   "cell_type": "code",
   "execution_count": 47,
   "id": "3b5a62c5",
   "metadata": {},
   "outputs": [
    {
     "name": "stdout",
     "output_type": "stream",
     "text": [
      "2055628\n"
     ]
    }
   ],
   "source": [
    "# extract cars in lane 3, 4, 5\n",
    "us101_data = us101_data[(us101_data['Lane_ID'] == 3) | (us101_data['Lane_ID'] == 4) | (us101_data['Lane_ID'] == 5)]\n",
    "print(len(us101_data))"
   ]
  },
  {
   "cell_type": "code",
   "execution_count": 48,
   "id": "749c6cc7",
   "metadata": {},
   "outputs": [],
   "source": [
    "#group the data by frame id\n",
    "us101_data_grouped = us101_data.groupby('Frame_ID')"
   ]
  },
  {
   "cell_type": "code",
   "execution_count": 49,
   "id": "eb8d4b8a",
   "metadata": {},
   "outputs": [
    {
     "name": "stdout",
     "output_type": "stream",
     "text": [
      "0\n",
      "0\n"
     ]
    }
   ],
   "source": [
    "# # Index(['Vehicle_ID', 'Frame_ID', 'Total_Frames', 'Global_Time', 'Local_X',\n",
    "#        'Local_Y', 'Global_X', 'Global_Y', 'v_length', 'v_Width', 'v_Class',\n",
    "#        'v_Vel', 'v_Acc', 'Lane_ID', 'O_Zone', 'D_Zone', 'Int_ID', 'Section_ID',\n",
    "#        'Direction', 'Movement', 'Preceding', 'Following', 'Space_Headway',\n",
    "#        'Time_Headway', 'Location'],\n",
    "#       dtype='object')\n",
    "# check for nan values in preceding and following\n",
    "print(us101_data['Preceding'].isna().sum())\n",
    "print(us101_data['Following'].isna().sum())\n",
    "\n"
   ]
  },
  {
   "cell_type": "code",
   "execution_count": 50,
   "id": "00d03cda",
   "metadata": {},
   "outputs": [
    {
     "name": "stdout",
     "output_type": "stream",
     "text": [
      "         Vehicle_ID  Frame_ID  Total_Frames    Global_Time  Local_X  Local_Y  \\\n",
      "8437164         251      1187           912  1118848875700   38.684  104.963   \n",
      "3260003         251      1188           912  1118848875800   38.645  107.754   \n",
      "4846510         251      1189           912  1118848875900   38.615  110.549   \n",
      "6572266         251      1190           912  1118848876000   38.583  113.348   \n",
      "8628909         251      1191           912  1118848876100   38.552  116.149   \n",
      "3898706         251      1192           912  1118848876200   38.522  118.967   \n",
      "3917923         251      1193           912  1118848876300   38.490  121.770   \n",
      "2465042         251      1194           912  1118848876400   38.459  124.455   \n",
      "3548783         251      1195           912  1118848876500   38.428  127.024   \n",
      "4055477         251      1196           912  1118848876600   38.445  129.589   \n",
      "\n",
      "            Global_X     Global_Y  v_length  v_Width  ...  D_Zone  Int_ID  \\\n",
      "8437164  6451144.379  1873304.220      17.5      7.9  ...     NaN     NaN   \n",
      "3260003  6451146.273  1873302.169      17.5      7.9  ...     NaN     NaN   \n",
      "4846510  6451148.167  1873300.107      17.5      7.9  ...     NaN     NaN   \n",
      "6572266  6451150.062  1873298.045      17.5      7.9  ...     NaN     NaN   \n",
      "8628909  6451151.956  1873295.983      17.5      7.9  ...     NaN     NaN   \n",
      "3898706  6451153.850  1873293.921      17.5      7.9  ...     NaN     NaN   \n",
      "3917923  6451155.745  1873291.859      17.5      7.9  ...     NaN     NaN   \n",
      "2465042  6451157.639  1873289.797      17.5      7.9  ...     NaN     NaN   \n",
      "3548783  6451159.533  1873287.735      17.5      7.9  ...     NaN     NaN   \n",
      "4055477  6451161.428  1873285.673      17.5      7.9  ...     NaN     NaN   \n",
      "\n",
      "         Section_ID  Direction  Movement  Preceding  Following  Space_Headway  \\\n",
      "8437164         NaN        NaN       NaN        247          0          48.17   \n",
      "3260003         NaN        NaN       NaN        247          0          48.19   \n",
      "4846510         NaN        NaN       NaN        247          0          48.09   \n",
      "6572266         NaN        NaN       NaN        247          0          47.84   \n",
      "8628909         NaN        NaN       NaN        247          0          47.53   \n",
      "3898706         NaN        NaN       NaN        247          0          47.19   \n",
      "3917923         NaN        NaN       NaN        247          0          46.88   \n",
      "2465042         NaN        NaN       NaN        247          0          46.68   \n",
      "3548783         NaN        NaN       NaN        247          0          46.61   \n",
      "4055477         NaN        NaN       NaN        247        254          46.58   \n",
      "\n",
      "         Time_Headway  Location  \n",
      "8437164          1.71    us-101  \n",
      "3260003          1.72    us-101  \n",
      "4846510          1.72    us-101  \n",
      "6572266          1.71    us-101  \n",
      "8628909          1.70    us-101  \n",
      "3898706          1.70    us-101  \n",
      "3917923          1.72    us-101  \n",
      "2465042          1.76    us-101  \n",
      "3548783          1.78    us-101  \n",
      "4055477          1.76    us-101  \n",
      "\n",
      "[10 rows x 25 columns]\n"
     ]
    }
   ],
   "source": [
    "# print the data for one vehicle id\n",
    "v_id = 251\n",
    "vehicle_data = us101_data[us101_data['Vehicle_ID'] == v_id]\n",
    "# print(vehicle_data)\n",
    "# print the data in ascending order of frame id\n",
    "vehicle_data = vehicle_data.sort_values(by='Frame_ID')\n",
    "print(vehicle_data[10:20])\n"
   ]
  },
  {
   "cell_type": "code",
   "execution_count": 51,
   "id": "0d9df37d",
   "metadata": {},
   "outputs": [
    {
     "name": "stdout",
     "output_type": "stream",
     "text": [
      "[3 5 4]\n"
     ]
    }
   ],
   "source": [
    "# Print unique lane ids in us-101 data\n",
    "lane_ids = us101_data['Lane_ID'].unique()\n",
    "print(lane_ids)"
   ]
  },
  {
   "cell_type": "code",
   "execution_count": 52,
   "id": "50c53e90",
   "metadata": {},
   "outputs": [
    {
     "name": "stdout",
     "output_type": "stream",
     "text": [
      "0.0\n"
     ]
    }
   ],
   "source": [
    "# Print unique directions in us-101 data\n",
    "directions = us101_data['v_Vel'].unique().min()\n",
    "print(directions)"
   ]
  },
  {
   "cell_type": "code",
   "execution_count": 53,
   "id": "3ee301b7",
   "metadata": {},
   "outputs": [],
   "source": [
    "# filter the data for ech frame id, and considering only 6 vehicles in a range of 10 meters\n",
    "# us101_data = us101_data[us101_data['Frame_ID'] == 0]\n",
    "# # print the data\n",
    "# print(us101_data)\n",
    "# # now for each vehicle id, get the data for the next 10 frames\n",
    "# us101_data = us101_data[us101_data['Vehicle_ID'].isin([1, 2, 3, 4, 5, 6])]\n",
    "# # print the data\n",
    "# print(us101_data)\n",
    "# # now for each vehicle id, get the data for the next 10 frames\n",
    "# us101_data = us101_data[us101_data['Frame_ID'].isin([0, 1, 2, 3, 4, 5, 6, 7, 8, 9])]\n"
   ]
  },
  {
   "cell_type": "code",
   "execution_count": 54,
   "id": "4b2e3c10",
   "metadata": {},
   "outputs": [
    {
     "name": "stdout",
     "output_type": "stream",
     "text": [
      "[nan  3.  0.  2.  4.  5.  1.  6.]\n"
     ]
    }
   ],
   "source": [
    "unique_section_ids = trajectories_data['Section_ID'].unique()\n",
    "print(unique_section_ids)"
   ]
  },
  {
   "cell_type": "code",
   "execution_count": 55,
   "id": "61570090",
   "metadata": {},
   "outputs": [
    {
     "name": "stdout",
     "output_type": "stream",
     "text": [
      "165\n"
     ]
    }
   ],
   "source": [
    "# get the number of vehicles in one frame id\n",
    "def get_num_vehicles_in_frame(frame_id):\n",
    "    return len(us101_data[us101_data['Frame_ID'] == frame_id]['Vehicle_ID'].unique())\n",
    "\n",
    "# get the number of vehicles in each frame id\n",
    "print(get_num_vehicles_in_frame(2330))"
   ]
  },
  {
   "cell_type": "code",
   "execution_count": 56,
   "id": "d63ef705",
   "metadata": {},
   "outputs": [],
   "source": [
    "# filter the "
   ]
  },
  {
   "cell_type": "code",
   "execution_count": 57,
   "id": "842f3d01",
   "metadata": {},
   "outputs": [
    {
     "name": "stdout",
     "output_type": "stream",
     "text": [
      "716.5957648201978\n"
     ]
    }
   ],
   "source": [
    "# calculate the average distavance between vehicles in each frame id\n",
    "def get_average_distance_between_vehicles_in_frame(frame_id):\n",
    "    frame_data = us101_data[us101_data['Frame_ID'] == frame_id]\n",
    "    frame_data = frame_data[frame_data['Section_ID'].isna()]\n",
    "    vehicle_ids = frame_data['Vehicle_ID'].unique()\n",
    "    distances = []\n",
    "    for i in range(len(vehicle_ids)):\n",
    "        for j in range(i + 1, len(vehicle_ids)):\n",
    "            vehicle1 = frame_data[frame_data['Vehicle_ID'] == vehicle_ids[i]]\n",
    "            vehicle2 = frame_data[frame_data['Vehicle_ID'] == vehicle_ids[j]]\n",
    "            distance = np.sqrt((vehicle1['Global_X'].values[0] - vehicle2['Global_X'].values[0]) ** 2 +\n",
    "                               (vehicle1['Global_Y'].values[0] - vehicle2['Global_Y'].values[0]) ** 2)\n",
    "            distances.append(distance)\n",
    "    return np.mean(distances) if distances else 0\n",
    "print(get_average_distance_between_vehicles_in_frame(2330))"
   ]
  },
  {
   "cell_type": "code",
   "execution_count": null,
   "id": "453a0369",
   "metadata": {},
   "outputs": [],
   "source": []
  },
  {
   "cell_type": "code",
   "execution_count": 58,
   "id": "a3b5578a",
   "metadata": {},
   "outputs": [
    {
     "name": "stdout",
     "output_type": "stream",
     "text": [
      "Number of instances for Vehicle_ID 517 in Frame_ID 2330: 3\n"
     ]
    }
   ],
   "source": [
    "vehicle_id = 517 # Replace with the desired Vehicle_ID\n",
    "frame_id = 2330 # Replace with the desired Frame_ID\n",
    "vehicle_instances_count = trajectories_data[(trajectories_data['Frame_ID'] == frame_id) & (trajectories_data['Vehicle_ID'] == vehicle_id)].shape[0]\n",
    "print(f\"Number of instances for Vehicle_ID {vehicle_id} in Frame_ID {frame_id}: {vehicle_instances_count}\")"
   ]
  },
  {
   "cell_type": "code",
   "execution_count": 59,
   "id": "4dfa63cf",
   "metadata": {},
   "outputs": [
    {
     "name": "stdout",
     "output_type": "stream",
     "text": [
      "Number of unique vehicles in Frame_ID 2330: 654\n"
     ]
    }
   ],
   "source": [
    "unique_vehicles_count = trajectories_data[trajectories_data['Frame_ID'] == frame_id]['Vehicle_ID'].nunique()\n",
    "print(f\"Number of unique vehicles in Frame_ID {frame_id}: {unique_vehicles_count}\")"
   ]
  },
  {
   "cell_type": "code",
   "execution_count": 60,
   "id": "71e00ba8",
   "metadata": {},
   "outputs": [
    {
     "name": "stdout",
     "output_type": "stream",
     "text": [
      "          Vehicle_ID  Frame_ID  Total_Frames    Global_Time  Local_X  \\\n",
      "107797           514      2330          1183  1118848075000    6.072   \n",
      "107798           514      2330          1183  1118848075000    6.072   \n",
      "10101867         514      2330           627  1113433367900   42.967   \n",
      "\n",
      "           Local_Y     Global_X     Global_Y  v_length  v_Width  ...  D_Zone  \\\n",
      "107797     318.445  6451312.678  1873175.468      13.5      5.4  ...     NaN   \n",
      "107798     318.445  6451312.678  1873175.468      13.5      5.4  ...     NaN   \n",
      "10101867  1550.504  6042658.724  2134609.539      16.8      7.9  ...     NaN   \n",
      "\n",
      "          Int_ID  Section_ID  Direction  Movement  Preceding  Following  \\\n",
      "107797       NaN         NaN        NaN       NaN        507        521   \n",
      "107798       NaN         NaN        NaN       NaN        507        521   \n",
      "10101867     NaN         NaN        NaN       NaN        517        522   \n",
      "\n",
      "          Space_Headway  Time_Headway  Location  \n",
      "107797            27.75          6.77    us-101  \n",
      "107798            27.75          6.77    us-101  \n",
      "10101867          54.38          2.41      i-80  \n",
      "\n",
      "[3 rows x 25 columns]\n"
     ]
    }
   ],
   "source": [
    "# Filter the data for the specific vehicle and frame\n",
    "vehicle_id = 514\n",
    "frame_id = 2330\n",
    "vehicle_data = trajectories_data[(trajectories_data['Vehicle_ID'] == vehicle_id) & (trajectories_data['Frame_ID'] == frame_id)]\n",
    "print(vehicle_data)\n"
   ]
  },
  {
   "cell_type": "code",
   "execution_count": 61,
   "id": "a0848d44",
   "metadata": {},
   "outputs": [
    {
     "name": "stdout",
     "output_type": "stream",
     "text": [
      "Number of instances for Frame_ID 2330: 1312\n"
     ]
    }
   ],
   "source": [
    "frame_id = 2330  # Replace with the desired Frame_ID\n",
    "instances_count = trajectories_data[trajectories_data['Frame_ID'] == frame_id].shape[0]\n",
    "print(f\"Number of instances for Frame_ID {frame_id}: {instances_count}\")"
   ]
  },
  {
   "cell_type": "code",
   "execution_count": null,
   "id": "f62af04e",
   "metadata": {},
   "outputs": [],
   "source": []
  },
  {
   "cell_type": "code",
   "execution_count": 62,
   "id": "6af3f70a",
   "metadata": {},
   "outputs": [
    {
     "name": "stdout",
     "output_type": "stream",
     "text": [
      "          Vehicle_ID  Frame_ID  Total_Frames    Global_Time  Local_X  \\\n",
      "11526551           1        12           884  1113433136100   16.884   \n",
      "11227535           1        13           884  1113433136200   16.938   \n",
      "8914469            1        14           884  1113433136300   16.991   \n",
      "10414622           1        15           884  1113433136400   17.045   \n",
      "11206268           1        16           884  1113433136500   17.098   \n",
      "...              ...       ...           ...            ...      ...   \n",
      "10138773           1       891           884  1113433224000   15.980   \n",
      "11054532           1       892           884  1113433224100   15.998   \n",
      "10279610           1       893           884  1113433224200   16.021   \n",
      "11715808           1       894           884  1113433224300   16.037   \n",
      "10038743           1       895           884  1113433224400   16.055   \n",
      "\n",
      "           Local_Y     Global_X     Global_Y  v_length  v_Width  ...  D_Zone  \\\n",
      "11526551    48.213  6042842.116  2133117.662      14.3      6.4  ...     NaN   \n",
      "11227535    49.463  6042842.012  2133118.909      14.3      6.4  ...     NaN   \n",
      "8914469     50.712  6042841.908  2133120.155      14.3      6.4  ...     NaN   \n",
      "10414622    51.963  6042841.805  2133121.402      14.3      6.4  ...     NaN   \n",
      "11206268    53.213  6042841.701  2133122.649      14.3      6.4  ...     NaN   \n",
      "...            ...          ...          ...       ...      ...  ...     ...   \n",
      "10138773  1628.950  6042619.598  2134682.976      14.3      6.4  ...     NaN   \n",
      "11054532  1631.965  6042619.138  2134685.959      14.3      6.4  ...     NaN   \n",
      "10279610  1634.941  6042618.687  2134688.907      14.3      6.4  ...     NaN   \n",
      "11715808  1637.441  6042618.307  2134691.378      14.3      6.4  ...     NaN   \n",
      "10038743  1639.941  6042617.928  2134693.849      14.3      6.4  ...     NaN   \n",
      "\n",
      "          Int_ID  Section_ID  Direction  Movement  Preceding  Following  \\\n",
      "11526551     NaN         NaN        NaN       NaN          0          0   \n",
      "11227535     NaN         NaN        NaN       NaN          0          0   \n",
      "8914469      NaN         NaN        NaN       NaN          0          0   \n",
      "10414622     NaN         NaN        NaN       NaN          0          0   \n",
      "11206268     NaN         NaN        NaN       NaN          0          0   \n",
      "...          ...         ...        ...       ...        ...        ...   \n",
      "10138773     NaN         NaN        NaN       NaN          0         11   \n",
      "11054532     NaN         NaN        NaN       NaN          0         11   \n",
      "10279610     NaN         NaN        NaN       NaN          0         11   \n",
      "11715808     NaN         NaN        NaN       NaN          0         11   \n",
      "10038743     NaN         NaN        NaN       NaN          0         11   \n",
      "\n",
      "          Space_Headway  Time_Headway  Location  \n",
      "11526551            0.0           0.0      i-80  \n",
      "11227535            0.0           0.0      i-80  \n",
      "8914469             0.0           0.0      i-80  \n",
      "10414622            0.0           0.0      i-80  \n",
      "11206268            0.0           0.0      i-80  \n",
      "...                 ...           ...       ...  \n",
      "10138773            0.0           0.0      i-80  \n",
      "11054532            0.0           0.0      i-80  \n",
      "10279610            0.0           0.0      i-80  \n",
      "11715808            0.0           0.0      i-80  \n",
      "10038743            0.0           0.0      i-80  \n",
      "\n",
      "[1874 rows x 25 columns]\n"
     ]
    }
   ],
   "source": [
    "vehicle_data = trajectories_data[trajectories_data['Vehicle_ID'] == 1]\n",
    "# print(vehicle_data)\n",
    "vehicle_data = vehicle_data.sort_values(by='Frame_ID')\n",
    "print(vehicle_data)\n",
    "# vehicle_data = vehicle_data.drop_duplicates(subset='Frame_ID')\n",
    "# print(len(vehicle_data))"
   ]
  },
  {
   "cell_type": "code",
   "execution_count": 63,
   "id": "184fe564",
   "metadata": {},
   "outputs": [
    {
     "name": "stdout",
     "output_type": "stream",
     "text": [
      "11691\n"
     ]
    }
   ],
   "source": [
    "unique_frame_ids = trajectories_data['Frame_ID'].unique()\n",
    "print(len(unique_frame_ids))"
   ]
  },
  {
   "cell_type": "code",
   "execution_count": null,
   "id": "f832c785",
   "metadata": {},
   "outputs": [],
   "source": []
  }
 ],
 "metadata": {
  "kernelspec": {
   "display_name": "iaknn",
   "language": "python",
   "name": "python3"
  },
  "language_info": {
   "codemirror_mode": {
    "name": "ipython",
    "version": 3
   },
   "file_extension": ".py",
   "mimetype": "text/x-python",
   "name": "python",
   "nbconvert_exporter": "python",
   "pygments_lexer": "ipython3",
   "version": "3.12.9"
  }
 },
 "nbformat": 4,
 "nbformat_minor": 5
}
