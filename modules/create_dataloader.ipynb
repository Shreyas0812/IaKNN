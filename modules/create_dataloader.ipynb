{
 "cells": [
  {
   "cell_type": "code",
   "execution_count": 10,
   "id": "93e8f4ea",
   "metadata": {},
   "outputs": [],
   "source": [
    "import os\n",
    "import torch\n",
    "from torch.utils.data import Dataset, DataLoader\n",
    "import pandas as pd"
   ]
  },
  {
   "cell_type": "code",
   "execution_count": 19,
   "id": "54e5bcd8",
   "metadata": {},
   "outputs": [
    {
     "name": "stdout",
     "output_type": "stream",
     "text": [
      "    Local_X  Local_Y     Vel_x      Vel_y     Acc_x     Acc_y\n",
      "0    38.880  369.310  0.928483  42.869947  0.031397  1.449660\n",
      "1    38.973  373.604  0.922051  42.910095  0.021053  0.979774\n",
      "2    39.066  377.932  1.294859  42.720381 -0.126032 -4.158090\n",
      "3    39.196  382.221  0.928820  42.099755 -0.202263 -9.167769\n",
      "4    39.288  386.391  0.467799  41.227346 -0.106540 -9.389396\n",
      "5    39.334  390.445  0.861726  40.480829 -0.125354 -5.888666\n",
      "6    39.419  394.438  0.865413  40.070656 -0.042968 -1.989536\n",
      "7    39.505  398.420  0.860016  39.950744  0.002583  0.119972\n",
      "8    39.591  402.415  0.848959  39.960983  0.005735  0.269939\n",
      "9    39.676  406.416  0.849808  39.980970  0.000000  0.000000\n",
      "10   39.761  410.415  0.859801  39.980756  0.000000  0.000000\n",
      "11   39.847  414.414  0.859801  39.980756  0.000000  0.000000\n",
      "12   39.933  418.413  0.849808  39.980970  0.000000  0.000000\n",
      "13   40.018  422.412  0.859801  39.980756  0.000000  0.000000\n",
      "14   40.104  426.411  0.859586  39.980761  0.000000  0.000000\n",
      "15   40.190  430.411  0.859801  39.980756  0.000000  0.000000\n",
      "16   40.276  434.410  0.849808  39.980970  0.000000  0.000000\n",
      "17   40.361  438.409  0.849808  39.980970  0.000000  0.000000\n",
      "18   40.446  442.408  0.859801  39.980756  0.000000  0.000000\n",
      "19   40.532  446.407  0.860016  39.980751  0.000000  0.000000\n",
      "20    0.074    3.494 -0.179332  -7.497879 -0.129011 -6.058626\n",
      "21    0.006    3.989 -0.869536  -3.679991 -0.023500  3.800334\n",
      "    Local_X  Local_Y     Vel_x      Vel_y     Acc_x     Acc_y\n",
      "19   40.532  446.407  0.860016  39.980751  0.000000  0.000000\n",
      "20    0.074    3.494 -0.179332  -7.497879 -0.129011 -6.058626\n",
      "21    0.006    3.989 -0.869536  -3.679991 -0.023500  3.800334\n"
     ]
    }
   ],
   "source": [
    "df_loaded = pd.read_pickle('../data/ego_df/us-101/ego_df_21_frame_129_153.pk1')\n",
    "print(df_loaded.head(22))\n",
    "\n",
    "df_loaded = df_loaded[19:]\n",
    "print(df_loaded.head(3))"
   ]
  },
  {
   "cell_type": "code",
   "execution_count": 26,
   "id": "269b6c7b",
   "metadata": {},
   "outputs": [],
   "source": [
    "class PickleDataset(Dataset):\n",
    "    def __init__(self, pickle_dir):\n",
    "        self.files = [os.path.join(pickle_dir, f) \n",
    "                      for f in os.listdir(pickle_dir) if f.endswith('.pk1')]\n",
    "\n",
    "    def __len__(self):\n",
    "        return len(self.files)\n",
    "\n",
    "    def __getitem__(self, idx):\n",
    "        df = pd.read_pickle(self.files[idx])\n",
    "\n",
    "        df = df[19:]\n",
    "        # Convert the DataFrame to a torch tensor (float32)\n",
    "        tensor = torch.tensor(df.values, dtype=torch.float32)\n",
    "        tensor = tensor.unsqueeze(0)\n",
    "        return tensor"
   ]
  },
  {
   "cell_type": "code",
   "execution_count": 27,
   "id": "11a89af3",
   "metadata": {},
   "outputs": [],
   "source": [
    "pickle_dir = '../data/ego_df/us-101'\n",
    "dataset = PickleDataset(pickle_dir)\n",
    "dataloader = DataLoader(dataset, batch_size=4, shuffle=True, num_workers=0)"
   ]
  },
  {
   "cell_type": "code",
   "execution_count": 28,
   "id": "16845bff",
   "metadata": {},
   "outputs": [
    {
     "data": {
      "text/plain": [
       "<torch.utils.data.dataloader.DataLoader at 0x7968a6475eb0>"
      ]
     },
     "execution_count": 28,
     "metadata": {},
     "output_type": "execute_result"
    }
   ],
   "source": [
    "dataloader"
   ]
  },
  {
   "cell_type": "code",
   "execution_count": 29,
   "id": "ea693b45",
   "metadata": {},
   "outputs": [
    {
     "name": "stdout",
     "output_type": "stream",
     "text": [
      "torch.Size([4, 1, 86, 6])\n"
     ]
    }
   ],
   "source": [
    "# Example: iterate through one batch\n",
    "for batch in dataloader:\n",
    "    # batch is a tensor of shape (batch_size, rows, columns)\n",
    "    print(batch.shape)\n",
    "    # send batch to your model\n",
    "    # output = model(batch)\n",
    "    break\n"
   ]
  },
  {
   "cell_type": "code",
   "execution_count": 30,
   "id": "338ec7f9",
   "metadata": {},
   "outputs": [
    {
     "name": "stdout",
     "output_type": "stream",
     "text": [
      "Batch 0 shape: torch.Size([4, 1, 86, 6])\n",
      "Batch 1 shape: torch.Size([4, 1, 86, 6])\n",
      "Batch 2 shape: torch.Size([4, 1, 86, 6])\n"
     ]
    }
   ],
   "source": [
    "# Iterate through a few batches to inspect the dataloader output\n",
    "for i, batch in enumerate(dataloader):\n",
    "    print(f\"Batch {i} shape: {batch.shape}\")\n",
    "    if i == 2:  # Check first 3 batches\n",
    "        break"
   ]
  },
  {
   "cell_type": "code",
   "execution_count": null,
   "id": "fa319c48",
   "metadata": {},
   "outputs": [],
   "source": []
  }
 ],
 "metadata": {
  "kernelspec": {
   "display_name": "iaknn",
   "language": "python",
   "name": "python3"
  },
  "language_info": {
   "codemirror_mode": {
    "name": "ipython",
    "version": 3
   },
   "file_extension": ".py",
   "mimetype": "text/x-python",
   "name": "python",
   "nbconvert_exporter": "python",
   "pygments_lexer": "ipython3",
   "version": "3.12.9"
  }
 },
 "nbformat": 4,
 "nbformat_minor": 5
}
